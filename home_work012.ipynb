{
 "cells": [
  {
   "cell_type": "code",
   "execution_count": 51,
   "id": "a1e5bbc7",
   "metadata": {},
   "outputs": [],
   "source": [
    "from sympy import *\n",
    "from curses.ascii import isdigit"
   ]
  },
  {
   "cell_type": "code",
   "execution_count": 7,
   "id": "78782deb",
   "metadata": {},
   "outputs": [],
   "source": [
    "x = Symbol('x')"
   ]
  },
  {
   "cell_type": "code",
   "execution_count": 10,
   "id": "ba899e2a",
   "metadata": {},
   "outputs": [
    {
     "data": {
      "text/latex": [
       "$\\displaystyle x^{2} + 5 x + 6$"
      ],
      "text/plain": [
       "x**2 + 5*x + 6"
      ]
     },
     "execution_count": 10,
     "metadata": {},
     "output_type": "execute_result"
    }
   ],
   "source": [
    "y = x**2 +5*x +6\n",
    "y"
   ]
  },
  {
   "cell_type": "code",
   "execution_count": 13,
   "id": "727e112b",
   "metadata": {},
   "outputs": [
    {
     "data": {
      "text/plain": [
       "[-3, -2]"
      ]
     },
     "execution_count": 13,
     "metadata": {},
     "output_type": "execute_result"
    }
   ],
   "source": [
    "solve(y, x)\n"
   ]
  },
  {
   "cell_type": "code",
   "execution_count": 14,
   "id": "ef03414e",
   "metadata": {},
   "outputs": [
    {
     "data": {
      "text/latex": [
       "$\\displaystyle \\left\\{-3, -2\\right\\}$"
      ],
      "text/plain": [
       "{-3, -2}"
      ]
     },
     "execution_count": 14,
     "metadata": {},
     "output_type": "execute_result"
    }
   ],
   "source": [
    "solveset(y, x)"
   ]
  },
  {
   "cell_type": "code",
   "execution_count": 81,
   "id": "bf2cfa69",
   "metadata": {},
   "outputs": [
    {
     "data": {
      "text/latex": [
       "$\\displaystyle 2 x + 5$"
      ],
      "text/plain": [
       "2*x + 5"
      ]
     },
     "execution_count": 81,
     "metadata": {},
     "output_type": "execute_result"
    }
   ],
   "source": [
    "dy = diff(y)\n",
    "dy"
   ]
  },
  {
   "cell_type": "code",
   "execution_count": 79,
   "id": "eb788f25",
   "metadata": {},
   "outputs": [
    {
     "data": {
      "text/plain": [
       "[-5/2]"
      ]
     },
     "execution_count": 79,
     "metadata": {},
     "output_type": "execute_result"
    }
   ],
   "source": [
    "inter = solve(dy,x)\n",
    "inter"
   ]
  },
  {
   "cell_type": "code",
   "execution_count": 78,
   "id": "31dd3fa3",
   "metadata": {},
   "outputs": [
    {
     "name": "stdout",
     "output_type": "stream",
     "text": [
      "функция возрастает на интервале (-5/2, +oo) и убывает  на интервале(-оо до -5/2)\n"
     ]
    }
   ],
   "source": [
    "\n",
    "if(is_increasing(y,Interval(-oo, inter[0])) == True):\n",
    "    print(f'функция возрастает на интервале (-оо до {inter[0]}) и убывает  на интервале({inter[0]}, +oo)')\n",
    "else: print(f'функция возрастает на интервале ({inter[0]}, +oo) и убывает  на интервале(-оо до {inter[0]})')"
   ]
  },
  {
   "cell_type": "code",
   "execution_count": 80,
   "id": "66cd4432",
   "metadata": {},
   "outputs": [
    {
     "data": {
      "image/png": "[encoded data removed]",
      "text/plain": [
       "<Figure size 432x288 with 1 Axes>"
      ]
     },
     "metadata": {
      "needs_background": "light"
     },
     "output_type": "display_data"
    },
    {
     "data": {
      "text/plain": [
       "<sympy.plotting.plot.Plot at 0x7f88d83fa850>"
      ]
     },
     "execution_count": 80,
     "metadata": {},
     "output_type": "execute_result"
    }
   ],
   "source": [
    "plot(y)"
   ]
  },
  {
   "cell_type": "markdown",
   "id": "0b95cc69",
   "metadata": {},
   "source": [
    "Вычислить вершину"
   ]
  },
  {
   "cell_type": "code",
   "execution_count": 90,
   "id": "8b064e0f",
   "metadata": {},
   "outputs": [
    {
     "data": {
      "text/plain": [
       "[-5/2, 0]"
      ]
     },
     "execution_count": 90,
     "metadata": {},
     "output_type": "execute_result"
    }
   ],
   "source": [
    "vershina = solve(dy, x)\n",
    "vershina.append(0)\n",
    "vershina"
   ]
  },
  {
   "cell_type": "markdown",
   "id": "7032be1b",
   "metadata": {},
   "source": [
    "Определить промежутки, на котором f > 0"
   ]
  },
  {
   "cell_type": "code",
   "execution_count": 91,
   "id": "90bf4d58",
   "metadata": {},
   "outputs": [
    {
     "data": {
      "text/latex": [
       "$\\displaystyle - \\frac{5}{2} < x \\wedge x < \\infty$"
      ],
      "text/plain": [
       "(-5/2 < x) & (x < oo)"
      ]
     },
     "execution_count": 91,
     "metadata": {},
     "output_type": "execute_result"
    }
   ],
   "source": [
    "solve(dy>0,x)"
   ]
  },
  {
   "cell_type": "markdown",
   "id": "0d669e9e",
   "metadata": {},
   "source": [
    "Определить промежутки, на котором f < 0"
   ]
  },
  {
   "cell_type": "code",
   "execution_count": 92,
   "id": "c375f96a",
   "metadata": {},
   "outputs": [
    {
     "data": {
      "text/latex": [
       "$\\displaystyle -\\infty < x \\wedge x < - \\frac{5}{2}$"
      ],
      "text/plain": [
       "(-oo < x) & (x < -5/2)"
      ]
     },
     "execution_count": 92,
     "metadata": {},
     "output_type": "execute_result"
    }
   ],
   "source": [
    "solve(dy<0, x)"
   ]
  },
  {
   "cell_type": "code",
   "execution_count": null,
   "id": "84253b9d",
   "metadata": {},
   "outputs": [],
   "source": []
  }
 ],
 "metadata": {
  "kernelspec": {
   "display_name": "Python 3 (ipykernel)",
   "language": "python",
   "name": "python3"
  },
  "language_info": {
   "codemirror_mode": {
    "name": "ipython",
    "version": 3
   },
   "file_extension": ".py",
   "mimetype": "text/x-python",
   "name": "python",
   "nbconvert_exporter": "python",
   "pygments_lexer": "ipython3",
   "version": "3.9.12"
  }
 },
 "nbformat": 4,
 "nbformat_minor": 5
}
